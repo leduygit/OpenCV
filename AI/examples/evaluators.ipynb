{
 "cells": [
  {
   "cell_type": "code",
   "execution_count": 1,
   "metadata": {},
   "outputs": [
    {
     "name": "stderr",
     "output_type": "stream",
     "text": [
      "c:\\Users\\ADMIN\\Desktop\\OpenCV\\.venv\\Lib\\site-packages\\tqdm\\auto.py:21: TqdmWarning: IProgress not found. Please update jupyter and ipywidgets. See https://ipywidgets.readthedocs.io/en/stable/user_install.html\n",
      "  from .autonotebook import tqdm as notebook_tqdm\n"
     ]
    },
    {
     "name": "stdout",
     "output_type": "stream",
     "text": [
      "CUDA is available\n"
     ]
    }
   ],
   "source": [
    "from datasets import load_dataset\n",
    "from pprint import pprint\n",
    "from sentence_transformers import SentenceTransformer\n",
    "import torch\n",
    "\n",
    "# Check if a GPU is available\n",
    "if torch.cuda.is_available():\n",
    "    print(\"CUDA is available\")"
   ]
  },
  {
   "cell_type": "code",
   "execution_count": 8,
   "metadata": {},
   "outputs": [],
   "source": [
    "# model_checkpoint = \"paraphrase-multilingual-MiniLM-L12-v2\"\n",
    "\n",
    "# model = SentenceTransformer(\n",
    "#     model_checkpoint,\n",
    "#     device=torch.device(\"cuda\" if torch.cuda.is_available() else \"cpu\"),\n",
    "# )"
   ]
  },
  {
   "cell_type": "code",
   "execution_count": 3,
   "metadata": {},
   "outputs": [],
   "source": [
    "# Checkpoints to evaluate\n",
    "checkpoints = [\n",
    "    \"sentence-transformers/all-mpnet-base-v2\",\n",
    "    \"sentence-transformers/all-MiniLM-L6-v2\",\n",
    "    \"sentence-transformers/paraphrase-multilingual-MiniLM-L12-v2\",\n",
    "    \"sentence-transformers/paraphrase-multilingual-mpnet-base-v2\",\n",
    "    \"HZeroxium/paraphrase-multilingual-MiniLM-L12-v2-job-cv-multi-dataset\",\n",
    "    \"CrazyDave53/OpenCV-finetuned\",\n",
    "]\n",
    "evaluation_results = {}"
   ]
  },
  {
   "cell_type": "code",
   "execution_count": 4,
   "metadata": {},
   "outputs": [],
   "source": [
    "binary_dataset = load_dataset(\"HZeroxium/job-cv-binary\")\n",
    "triplet_dataset = load_dataset(\"HZeroxium/cv-job-triplet\")\n",
    "similarity_dataset = load_dataset(\"HZeroxium/cv-job-similarity\")\n",
    "job_paraphrase_dataset = load_dataset(\"HZeroxium/job-paraphrase\")\n",
    "cv_paraphrase_dataset = load_dataset(\"HZeroxium/cv-paraphrase\")"
   ]
  },
  {
   "cell_type": "code",
   "execution_count": 5,
   "metadata": {},
   "outputs": [],
   "source": [
    "eval_binary_dataset = binary_dataset[\"test\"]\n",
    "eval_triplet_dataset = triplet_dataset[\"test\"]\n",
    "eval_similarity_dataset = similarity_dataset[\"test\"]\n",
    "eval_job_paraphrase_dataset = job_paraphrase_dataset[\"test\"]\n",
    "eval_cv_paraphrase_dataset = cv_paraphrase_dataset[\"test\"]"
   ]
  },
  {
   "cell_type": "code",
   "execution_count": 6,
   "metadata": {},
   "outputs": [],
   "source": [
    "eval_dataset = {\n",
    "    \"binary\": eval_binary_dataset,\n",
    "    \"triplet\": eval_triplet_dataset,\n",
    "    \"similarity\": eval_similarity_dataset,\n",
    "    \"job_paraphrase\": eval_job_paraphrase_dataset,\n",
    "    \"cv_paraphrase\": eval_cv_paraphrase_dataset,\n",
    "}"
   ]
  },
  {
   "cell_type": "code",
   "execution_count": 7,
   "metadata": {},
   "outputs": [],
   "source": [
    "from sentence_transformers.evaluation import (\n",
    "    BinaryClassificationEvaluator,\n",
    "    TripletEvaluator,\n",
    "    EmbeddingSimilarityEvaluator,\n",
    ")\n",
    "\n",
    "job_scores = [1] * len(eval_job_paraphrase_dataset[\"text1\"])\n",
    "cv_scores = [1] * len(eval_cv_paraphrase_dataset[\"text1\"])\n",
    "\n",
    "binary_evaluator = BinaryClassificationEvaluator(\n",
    "    sentences1=eval_binary_dataset[\"text1\"],\n",
    "    sentences2=eval_binary_dataset[\"text2\"],\n",
    "    labels=eval_binary_dataset[\"label\"],\n",
    ")\n",
    "\n",
    "triplet_evaluator = TripletEvaluator(\n",
    "    anchors=eval_triplet_dataset[\"anchor\"],\n",
    "    positives=eval_triplet_dataset[\"positive\"],\n",
    "    negatives=eval_triplet_dataset[\"negative\"],\n",
    ")\n",
    "\n",
    "similarity_evaluator = EmbeddingSimilarityEvaluator(\n",
    "    sentences1=eval_similarity_dataset[\"text1\"],\n",
    "    sentences2=eval_similarity_dataset[\"text2\"],\n",
    "    scores=eval_similarity_dataset[\"score\"],\n",
    ")\n",
    "\n",
    "job_paraphrase_evaluator = BinaryClassificationEvaluator(\n",
    "    sentences1=eval_job_paraphrase_dataset[\"text1\"],\n",
    "    sentences2=eval_job_paraphrase_dataset[\"text2\"],\n",
    "    labels=job_scores,\n",
    ")\n",
    "\n",
    "cv_paraphrase_evaluator = BinaryClassificationEvaluator(\n",
    "    sentences1=eval_cv_paraphrase_dataset[\"text1\"],\n",
    "    sentences2=eval_cv_paraphrase_dataset[\"text2\"],\n",
    "    labels=cv_scores,\n",
    ")"
   ]
  },
  {
   "cell_type": "code",
   "execution_count": 8,
   "metadata": {},
   "outputs": [],
   "source": [
    "from sentence_transformers.evaluation import SequentialEvaluator\n",
    "\n",
    "evaluator = SequentialEvaluator(\n",
    "    [\n",
    "        binary_evaluator,\n",
    "        triplet_evaluator,\n",
    "        similarity_evaluator,\n",
    "        job_paraphrase_evaluator,\n",
    "        cv_paraphrase_evaluator,\n",
    "    ]\n",
    ")"
   ]
  },
  {
   "cell_type": "code",
   "execution_count": 9,
   "metadata": {},
   "outputs": [
    {
     "name": "stdout",
     "output_type": "stream",
     "text": [
      "Evaluating checkpoint: sentence-transformers/all-mpnet-base-v2\n",
      "Checkpoint sentence-transformers/all-mpnet-base-v2 - Score: {'cosine_accuracy': np.float64(0.9936305732484076), 'cosine_accuracy_threshold': np.float32(0.047278613), 'cosine_f1': np.float64(0.9968051118210862), 'cosine_f1_threshold': np.float32(0.047278613), 'cosine_precision': 1.0, 'cosine_recall': np.float64(0.9936305732484076), 'cosine_ap': np.float64(1.0), 'pearson_cosine': np.float64(0.23218382248628994), 'spearman_cosine': np.float64(0.2407817508398101), 'sequential_score': np.float64(1.0)}\n",
      "Evaluating checkpoint: sentence-transformers/all-MiniLM-L6-v2\n",
      "Checkpoint sentence-transformers/all-MiniLM-L6-v2 - Score: {'cosine_accuracy': np.float64(0.9936305732484076), 'cosine_accuracy_threshold': np.float32(0.07158986), 'cosine_f1': np.float64(0.9968051118210862), 'cosine_f1_threshold': np.float32(0.07158986), 'cosine_precision': 1.0, 'cosine_recall': np.float64(0.9936305732484076), 'cosine_ap': np.float64(1.0), 'pearson_cosine': np.float64(0.36789476340431904), 'spearman_cosine': np.float64(0.3900750394306888), 'sequential_score': np.float64(1.0)}\n",
      "Evaluating checkpoint: sentence-transformers/paraphrase-multilingual-MiniLM-L12-v2\n",
      "Checkpoint sentence-transformers/paraphrase-multilingual-MiniLM-L12-v2 - Score: {'cosine_accuracy': np.float64(0.9936305732484076), 'cosine_accuracy_threshold': np.float32(0.5445286), 'cosine_f1': np.float64(0.9968051118210862), 'cosine_f1_threshold': np.float32(0.5445286), 'cosine_precision': 1.0, 'cosine_recall': np.float64(0.9936305732484076), 'cosine_ap': np.float64(1.0), 'pearson_cosine': np.float64(0.5079829981510967), 'spearman_cosine': np.float64(0.5468237503692205), 'sequential_score': np.float64(1.0)}\n",
      "Evaluating checkpoint: sentence-transformers/paraphrase-multilingual-mpnet-base-v2\n",
      "Checkpoint sentence-transformers/paraphrase-multilingual-mpnet-base-v2 - Score: {'cosine_accuracy': np.float64(0.9936305732484076), 'cosine_accuracy_threshold': np.float32(0.5719626), 'cosine_f1': np.float64(0.9968051118210862), 'cosine_f1_threshold': np.float32(0.5719626), 'cosine_precision': 1.0, 'cosine_recall': np.float64(0.9936305732484076), 'cosine_ap': np.float64(1.0), 'pearson_cosine': np.float64(0.5799241965505414), 'spearman_cosine': np.float64(0.6038664802137114), 'sequential_score': np.float64(1.0)}\n",
      "Evaluating checkpoint: HZeroxium/paraphrase-multilingual-MiniLM-L12-v2-job-cv-multi-dataset\n",
      "Checkpoint HZeroxium/paraphrase-multilingual-MiniLM-L12-v2-job-cv-multi-dataset - Score: {'cosine_accuracy': np.float64(0.9936305732484076), 'cosine_accuracy_threshold': np.float32(0.82116985), 'cosine_f1': np.float64(0.9968051118210862), 'cosine_f1_threshold': np.float32(0.82116985), 'cosine_precision': 1.0, 'cosine_recall': np.float64(0.9936305732484076), 'cosine_ap': np.float64(1.0), 'pearson_cosine': np.float64(0.9700092558872533), 'spearman_cosine': np.float64(0.9430435948733775), 'sequential_score': np.float64(1.0)}\n",
      "Evaluating checkpoint: CrazyDave53/OpenCV-finetuned\n",
      "Checkpoint CrazyDave53/OpenCV-finetuned - Score: {'cosine_accuracy': np.float64(0.9936305732484076), 'cosine_accuracy_threshold': np.float32(0.79999125), 'cosine_f1': np.float64(0.9968051118210862), 'cosine_f1_threshold': np.float32(0.79999125), 'cosine_precision': 1.0, 'cosine_recall': np.float64(0.9936305732484076), 'cosine_ap': np.float64(1.0), 'pearson_cosine': np.float64(0.9623959778050586), 'spearman_cosine': np.float64(0.9394964366682788), 'sequential_score': np.float64(1.0)}\n"
     ]
    }
   ],
   "source": [
    "#\n",
    "for checkpoint in checkpoints:\n",
    "    print(f\"Evaluating checkpoint: {checkpoint}\")\n",
    "\n",
    "    # Load model\n",
    "    model = SentenceTransformer(\n",
    "        checkpoint,\n",
    "        device=torch.device(\"cuda\" if torch.cuda.is_available() else \"cpu\"),\n",
    "    )\n",
    "\n",
    "    evaluation_score = evaluator(model=model)\n",
    "    evaluation_results[checkpoint] = evaluation_score\n",
    "\n",
    "    print(f\"Checkpoint {checkpoint} - Score: {evaluation_score}\")"
   ]
  },
  {
   "cell_type": "code",
   "execution_count": 12,
   "metadata": {},
   "outputs": [
    {
     "name": "stdout",
     "output_type": "stream",
     "text": [
      "\n",
      "Evaluation Results:\n",
      "(\"sentence-transformers/all-mpnet-base-v2: {'cosine_accuracy': \"\n",
      " \"np.float64(0.9936305732484076), 'cosine_accuracy_threshold': \"\n",
      " \"np.float32(0.047278613), 'cosine_f1': np.float64(0.9968051118210862), \"\n",
      " \"'cosine_f1_threshold': np.float32(0.047278613), 'cosine_precision': 1.0, \"\n",
      " \"'cosine_recall': np.float64(0.9936305732484076), 'cosine_ap': \"\n",
      " \"np.float64(1.0), 'pearson_cosine': np.float64(0.23218382248628994), \"\n",
      " \"'spearman_cosine': np.float64(0.2407817508398101), 'sequential_score': \"\n",
      " 'np.float64(1.0)}')\n",
      "(\"sentence-transformers/all-MiniLM-L6-v2: {'cosine_accuracy': \"\n",
      " \"np.float64(0.9936305732484076), 'cosine_accuracy_threshold': \"\n",
      " \"np.float32(0.07158986), 'cosine_f1': np.float64(0.9968051118210862), \"\n",
      " \"'cosine_f1_threshold': np.float32(0.07158986), 'cosine_precision': 1.0, \"\n",
      " \"'cosine_recall': np.float64(0.9936305732484076), 'cosine_ap': \"\n",
      " \"np.float64(1.0), 'pearson_cosine': np.float64(0.36789476340431904), \"\n",
      " \"'spearman_cosine': np.float64(0.3900750394306888), 'sequential_score': \"\n",
      " 'np.float64(1.0)}')\n",
      "('sentence-transformers/paraphrase-multilingual-MiniLM-L12-v2: '\n",
      " \"{'cosine_accuracy': np.float64(0.9936305732484076), \"\n",
      " \"'cosine_accuracy_threshold': np.float32(0.5445286), 'cosine_f1': \"\n",
      " \"np.float64(0.9968051118210862), 'cosine_f1_threshold': \"\n",
      " \"np.float32(0.5445286), 'cosine_precision': 1.0, 'cosine_recall': \"\n",
      " \"np.float64(0.9936305732484076), 'cosine_ap': np.float64(1.0), \"\n",
      " \"'pearson_cosine': np.float64(0.5079829981510967), 'spearman_cosine': \"\n",
      " \"np.float64(0.5468237503692205), 'sequential_score': np.float64(1.0)}\")\n",
      "('sentence-transformers/paraphrase-multilingual-mpnet-base-v2: '\n",
      " \"{'cosine_accuracy': np.float64(0.9936305732484076), \"\n",
      " \"'cosine_accuracy_threshold': np.float32(0.5719626), 'cosine_f1': \"\n",
      " \"np.float64(0.9968051118210862), 'cosine_f1_threshold': \"\n",
      " \"np.float32(0.5719626), 'cosine_precision': 1.0, 'cosine_recall': \"\n",
      " \"np.float64(0.9936305732484076), 'cosine_ap': np.float64(1.0), \"\n",
      " \"'pearson_cosine': np.float64(0.5799241965505414), 'spearman_cosine': \"\n",
      " \"np.float64(0.6038664802137114), 'sequential_score': np.float64(1.0)}\")\n",
      "('HZeroxium/paraphrase-multilingual-MiniLM-L12-v2-job-cv-multi-dataset: '\n",
      " \"{'cosine_accuracy': np.float64(0.9936305732484076), \"\n",
      " \"'cosine_accuracy_threshold': np.float32(0.82116985), 'cosine_f1': \"\n",
      " \"np.float64(0.9968051118210862), 'cosine_f1_threshold': \"\n",
      " \"np.float32(0.82116985), 'cosine_precision': 1.0, 'cosine_recall': \"\n",
      " \"np.float64(0.9936305732484076), 'cosine_ap': np.float64(1.0), \"\n",
      " \"'pearson_cosine': np.float64(0.9700092558872533), 'spearman_cosine': \"\n",
      " \"np.float64(0.9430435948733775), 'sequential_score': np.float64(1.0)}\")\n",
      "(\"CrazyDave53/OpenCV-finetuned: {'cosine_accuracy': \"\n",
      " \"np.float64(0.9936305732484076), 'cosine_accuracy_threshold': \"\n",
      " \"np.float32(0.79999125), 'cosine_f1': np.float64(0.9968051118210862), \"\n",
      " \"'cosine_f1_threshold': np.float32(0.79999125), 'cosine_precision': 1.0, \"\n",
      " \"'cosine_recall': np.float64(0.9936305732484076), 'cosine_ap': \"\n",
      " \"np.float64(1.0), 'pearson_cosine': np.float64(0.9623959778050586), \"\n",
      " \"'spearman_cosine': np.float64(0.9394964366682788), 'sequential_score': \"\n",
      " 'np.float64(1.0)}')\n"
     ]
    }
   ],
   "source": [
    "print(\"\\nEvaluation Results:\")\n",
    "for checkpoint, score in evaluation_results.items():\n",
    "    pprint(f\"{checkpoint}: {score}\")"
   ]
  },
  {
   "cell_type": "code",
   "execution_count": 15,
   "metadata": {},
   "outputs": [],
   "source": [
    "import pandas as pd\n",
    "import numpy as np\n",
    "\n",
    "# Chuyển đổi thành DataFrame\n",
    "df = pd.DataFrame(evaluation_results).T\n",
    "\n",
    "# Rút gọn các giá trị số xuống 3 chữ số thập phân\n",
    "df = df.map(lambda x: round(x, 3) if isinstance(x, (float, np.floating)) else x)\n",
    "\n",
    "\n",
    "# Ghi ra file CSV nếu cần\n",
    "df.to_csv(\"evaluation_results.csv\", index=True)"
   ]
  },
  {
   "cell_type": "code",
   "execution_count": null,
   "metadata": {},
   "outputs": [],
   "source": []
  }
 ],
 "metadata": {
  "kernelspec": {
   "display_name": ".venv",
   "language": "python",
   "name": "python3"
  },
  "language_info": {
   "codemirror_mode": {
    "name": "ipython",
    "version": 3
   },
   "file_extension": ".py",
   "mimetype": "text/x-python",
   "name": "python",
   "nbconvert_exporter": "python",
   "pygments_lexer": "ipython3",
   "version": "3.12.4"
  }
 },
 "nbformat": 4,
 "nbformat_minor": 2
}
