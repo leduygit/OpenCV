{
 "cells": [
  {
   "cell_type": "code",
   "execution_count": 139,
   "metadata": {},
   "outputs": [],
   "source": [
    "from datasets import load_dataset, Dataset\n",
    "import pandas as pd\n",
    "import json"
   ]
  },
  {
   "cell_type": "code",
   "execution_count": 140,
   "metadata": {},
   "outputs": [
    {
     "data": {
      "text/plain": [
       "Dataset({\n",
       "    features: ['title', 'company', 'image_url', 'salary', 'industry', 'position', 'location', 'requirements', 'jd'],\n",
       "    num_rows: 403\n",
       "})"
      ]
     },
     "execution_count": 140,
     "metadata": {},
     "output_type": "execute_result"
    }
   ],
   "source": [
    "# Load original job details from JSON\n",
    "job_details = load_dataset(\"json\", data_files=\"./data/job_details.json\")[\"train\"]\n",
    "job_details"
   ]
  },
  {
   "cell_type": "code",
   "execution_count": 141,
   "metadata": {},
   "outputs": [
    {
     "data": {
      "text/plain": [
       "Dataset({\n",
       "    features: ['title', 'company', 'image_url', 'salary', 'industry', 'position', 'location', 'requirements.context', 'requirements.degree', 'requirements.experience', 'jd', '__index_level_0__'],\n",
       "    num_rows: 401\n",
       "})"
      ]
     },
     "execution_count": 141,
     "metadata": {},
     "output_type": "execute_result"
    }
   ],
   "source": [
    "job_details = job_details.flatten()\n",
    "job_details_df = pd.DataFrame(job_details)\n",
    "job_details_df = job_details_df.drop_duplicates()\n",
    "job_details = Dataset.from_pandas(job_details_df)\n",
    "job_details"
   ]
  },
  {
   "cell_type": "code",
   "execution_count": 142,
   "metadata": {},
   "outputs": [
    {
     "data": {
      "text/plain": [
       "Dataset({\n",
       "    features: ['title', 'company', 'image_url', 'salary', 'industry', 'position', 'location', 'jd', 'degree', 'experience', 'context', 'skills'],\n",
       "    num_rows: 401\n",
       "})"
      ]
     },
     "execution_count": 142,
     "metadata": {},
     "output_type": "execute_result"
    }
   ],
   "source": [
    "# Load preprocessed job data from CSV\n",
    "preprocessed_data = load_dataset(\"csv\", data_files=\"./data/job_preprocessed.csv\")[\n",
    "    \"train\"\n",
    "]\n",
    "preprocessed_data"
   ]
  },
  {
   "cell_type": "code",
   "execution_count": 143,
   "metadata": {},
   "outputs": [
    {
     "data": {
      "text/plain": [
       "{'title': Value(dtype='string', id=None),\n",
       " 'company': Value(dtype='string', id=None),\n",
       " 'image_url': Value(dtype='string', id=None),\n",
       " 'salary': Value(dtype='string', id=None),\n",
       " 'industry': Value(dtype='string', id=None),\n",
       " 'position': Value(dtype='string', id=None),\n",
       " 'location': Value(dtype='string', id=None),\n",
       " 'requirements.context': Value(dtype='string', id=None),\n",
       " 'requirements.degree': Value(dtype='string', id=None),\n",
       " 'requirements.experience': Value(dtype='string', id=None),\n",
       " 'jd': Value(dtype='string', id=None),\n",
       " '__index_level_0__': Value(dtype='int64', id=None),\n",
       " 'skills': Value(dtype='string', id=None)}"
      ]
     },
     "execution_count": 143,
     "metadata": {},
     "output_type": "execute_result"
    }
   ],
   "source": [
    "job_details = job_details.add_column(\"skills\", preprocessed_data[\"skills\"])\n",
    "job_details.features"
   ]
  },
  {
   "cell_type": "code",
   "execution_count": 144,
   "metadata": {},
   "outputs": [],
   "source": [
    "texts = []\n",
    "\n",
    "for row in preprocessed_data:\n",
    "    skills = row[\"skills\"]\n",
    "    context = row[\"context\"]\n",
    "    jd = row[\"jd\"]\n",
    "    combined_text = f\"[JD] {jd} \\n[Context] {context} \\n[Skills] {skills}\"\n",
    "    texts.append(combined_text)"
   ]
  },
  {
   "cell_type": "code",
   "execution_count": 145,
   "metadata": {},
   "outputs": [],
   "source": [
    "job_details = job_details.add_column(\"combined_text\", texts)"
   ]
  },
  {
   "cell_type": "code",
   "execution_count": 146,
   "metadata": {},
   "outputs": [
    {
     "data": {
      "text/plain": [
       "{'title': Value(dtype='string', id=None),\n",
       " 'company': Value(dtype='string', id=None),\n",
       " 'image_url': Value(dtype='string', id=None),\n",
       " 'salary': Value(dtype='string', id=None),\n",
       " 'industry': Value(dtype='string', id=None),\n",
       " 'position': Value(dtype='string', id=None),\n",
       " 'location': Value(dtype='string', id=None),\n",
       " 'requirements.context': Value(dtype='string', id=None),\n",
       " 'requirements.degree': Value(dtype='string', id=None),\n",
       " 'requirements.experience': Value(dtype='string', id=None),\n",
       " 'jd': Value(dtype='string', id=None),\n",
       " '__index_level_0__': Value(dtype='int64', id=None),\n",
       " 'skills': Value(dtype='string', id=None),\n",
       " 'combined_text': Value(dtype='string', id=None)}"
      ]
     },
     "execution_count": 146,
     "metadata": {},
     "output_type": "execute_result"
    }
   ],
   "source": [
    "job_details.features"
   ]
  },
  {
   "cell_type": "code",
   "execution_count": 147,
   "metadata": {},
   "outputs": [],
   "source": [
    "columns_mapping = {\n",
    "    \"company\": \"companyName\",\n",
    "    \"image_url\": \"imageURL\",\n",
    "    \"salary\": \"salaryRange\",\n",
    "    \"requirements.context\": \"requirementContext\",\n",
    "    \"requirements.degree\": \"requiredDegree\",\n",
    "    \"requirements.experience\": \"requiredExperience\",\n",
    "    \"jd\": \"jobDescription\",\n",
    "    \"skills\": \"skillsRequired\",\n",
    "}"
   ]
  },
  {
   "cell_type": "code",
   "execution_count": 148,
   "metadata": {},
   "outputs": [
    {
     "data": {
      "text/plain": [
       "Dataset({\n",
       "    features: ['title', 'companyName', 'imageURL', 'salaryRange', 'industry', 'position', 'location', 'requirementContext', 'requiredDegree', 'requiredExperience', 'jobDescription', 'skillsRequired', 'combined_text'],\n",
       "    num_rows: 401\n",
       "})"
      ]
     },
     "execution_count": 148,
     "metadata": {},
     "output_type": "execute_result"
    }
   ],
   "source": [
    "job_details = job_details.rename_columns(columns_mapping)\n",
    "job_details = job_details.remove_columns([\"__index_level_0__\"])\n",
    "job_details"
   ]
  },
  {
   "cell_type": "code",
   "execution_count": 149,
   "metadata": {},
   "outputs": [
    {
     "data": {
      "text/plain": [
       "[\"[JD] nhiệm vụ quản lý  dẫn dắt đội ngũ phát triển ứng dụng  trang web \\n hướng dẫn  đào tạo hỗ trợ kỹ thuật \\n ước lượng khối lượng công việc chi phí cho dự án \\n giao tiếp đàm phán khách hàng nhiệm vụ kỹ thuật  dẫn dắt việc lập kế hoạch  thiết kế phát triển hệ thống phần mềm hoặc phần cứng nhằm giúp công ty hoặc khách hàng đạt mục tiêu \\n xây dựng kế hoạch duy trì hoạt động kinh doanh \\n cung cấp hướng dẫn kỹ thuật đạo cụ thể cho thành viên cấp \\n[Context] Tốt nghiệp Đại học chuyên ngành CNTT hoặc ngành liên quan Tiếng Nhật : JLPT N3 trở lên Tối thiểu 2 năm kinh nghiệm quản lý dự án vai trò BrSE , Trưởng Dự Án , hoặc Trưởng Kinh nghiệm phát triển phần mềm ngôn ngữ Java , .Net , Python , v.v . Kiến thức tốt hoặc kinh nghiệm thực tế về cơ sở dữ liệu SQL / non - SQL MS SQL , PostgreSQL , MongoDB , v.v . \\n[Skills] ['giao tiếp', '.NET', 'sql', 'đàm phán', 'postgresql', 'quản lý dự án', 'python', 'Tốt nghiệp Đại học', '2 năm kinh nghiệm', 'mongodb', 'java']\",\n",
       " '[JD] số lượng \\n  01  mô tả công việc cơ bản khảo sát hiện trạng thực tế dự án ban đầu   triển khai bản vẽ thiết kế thi công hồ sơ thiết kế cơ sở ban đầu  triển khai bản vẽ hoàn công cấp   đảm bảo tiến độ trình duyệt bản vẽ thiết kế thi công   bốc tách khối lượng bản vẽ  cần công việc trao đổi thêm phỏng vấn \\n[Context] None \\n[Skills] []',\n",
       " '[JD] job title  talent acquisition  location  19 tân cảng  p25  bình thạnh  tphcm  salary  6000000  9000000job summary  we are looking for a motivated and detail  oriented talent acquisition support our recruitment team  you will help identify and engage potential candidates meet our company s hiring needs and assist in building a strong candidate pipeline  key responsibilities source and screen potential candidates through various channels   conduct research identify potential talent pools for current and future job openings   review and shortlist cvs  resumes based on job requirements   coordinate and schedule interviews between candidates and hiring managers   maintain and update the candidate database and recruitment tracking system   build and maintain strong relationships with potential candidates   assist with other recruitment  related tasks as needed \\n[Context] None \\n[Skills] []']"
      ]
     },
     "execution_count": 149,
     "metadata": {},
     "output_type": "execute_result"
    }
   ],
   "source": [
    "job_details[\"combined_text\"][:3]"
   ]
  },
  {
   "cell_type": "code",
   "execution_count": 150,
   "metadata": {},
   "outputs": [
    {
     "name": "stderr",
     "output_type": "stream",
     "text": [
      "Creating json from Arrow format: 100%|██████████| 1/1 [00:00<00:00, 55.20ba/s]\n"
     ]
    },
    {
     "data": {
      "text/plain": [
       "1535574"
      ]
     },
     "execution_count": 150,
     "metadata": {},
     "output_type": "execute_result"
    }
   ],
   "source": [
    "job_details.to_json(\n",
    "    \"jobs.json\",\n",
    "    orient=\"records\",  # Lưu mỗi hàng dưới dạng một đối tượng JSON riêng lẻ\n",
    "    lines=False,  # Mỗi dòng là một JSON object\n",
    "    force_ascii=False,  # Giữ nguyên các ký tự không phải ASCII (Unicode)\n",
    "    indent=4,  # Tăng khả năng đọc với indent\n",
    ")"
   ]
  },
  {
   "cell_type": "code",
   "execution_count": 151,
   "metadata": {},
   "outputs": [
    {
     "name": "stderr",
     "output_type": "stream",
     "text": [
      "Generating train split: 401 examples [00:00, 14513.66 examples/s]\n"
     ]
    },
    {
     "data": {
      "text/plain": [
       "Dataset({\n",
       "    features: ['title', 'companyName', 'imageURL', 'salaryRange', 'industry', 'position', 'location', 'requirementContext', 'requiredDegree', 'requiredExperience', 'jobDescription', 'skillsRequired', 'combined_text'],\n",
       "    num_rows: 401\n",
       "})"
      ]
     },
     "execution_count": 151,
     "metadata": {},
     "output_type": "execute_result"
    }
   ],
   "source": [
    "json_job_details = load_dataset(\"json\", data_files=\"jobs.json\")[\"train\"]\n",
    "json_job_details"
   ]
  },
  {
   "cell_type": "code",
   "execution_count": 152,
   "metadata": {},
   "outputs": [
    {
     "data": {
      "text/plain": [
       "['[Quận Tân Bình, HCM] Trưởng Nhóm Dự Án IT (Tiếng Nhật) (35Tr-52Tr) (24996)',\n",
       " 'Nhân Viên M&amp;E (Mảng Nước)',\n",
       " 'Talent Acquisition - HCMC']"
      ]
     },
     "execution_count": 152,
     "metadata": {},
     "output_type": "execute_result"
    }
   ],
   "source": [
    "json_job_details[:3][\"title\"]"
   ]
  }
 ],
 "metadata": {
  "kernelspec": {
   "display_name": ".venv",
   "language": "python",
   "name": "python3"
  },
  "language_info": {
   "codemirror_mode": {
    "name": "ipython",
    "version": 3
   },
   "file_extension": ".py",
   "mimetype": "text/x-python",
   "name": "python",
   "nbconvert_exporter": "python",
   "pygments_lexer": "ipython3",
   "version": "3.12.4"
  }
 },
 "nbformat": 4,
 "nbformat_minor": 2
}
